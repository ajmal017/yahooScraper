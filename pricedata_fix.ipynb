{
 "cells": [
  {
   "cell_type": "code",
   "execution_count": 1,
   "metadata": {},
   "outputs": [],
   "source": [
    "import scraper as s\n",
    "import pandas as pd\n",
    "import numpy as np\n",
    "import datetime"
   ]
  },
  {
   "cell_type": "code",
   "execution_count": 2,
   "metadata": {},
   "outputs": [],
   "source": [
    "m = s.stockMongo()"
   ]
  },
  {
   "cell_type": "code",
   "execution_count": 4,
   "metadata": {},
   "outputs": [
    {
     "name": "stdout",
     "output_type": "stream",
     "text": [
      "Adding '[2020-01-01 00:00:00, 2020-08-11 21:35:51.810227]' data for symbol 'AAPL' (154 entries)\n",
      "Adding '[2020-01-01 00:00:00, 2020-08-11 21:35:53.027950]' data for symbol 'IBM' (152 entries)\n",
      "Adding '[2020-01-01 00:00:00, 2020-08-11 21:35:53.905712]' data for symbol 'VRM' (45 entries)\n",
      "Adding '[2020-01-01 00:00:00, 2020-08-11 21:35:54.615217]' data for symbol 'NKLA' (72 entries)\n",
      "Adding '[2020-01-01 00:00:00, 2020-08-11 21:35:55.379932]' data for symbol 'AMZN' (154 entries)\n",
      "Adding '[2020-01-01 00:00:00, 2020-08-11 21:35:56.259153]' data for symbol 'NIO' (154 entries)\n",
      "Adding '[2020-01-01 00:00:00, 2020-08-11 21:35:57.200166]' data for symbol 'M' (154 entries)\n",
      "Adding '[2020-01-01 00:00:00, 2020-08-11 21:35:58.223855]' data for symbol 'CLDR' (150 entries)\n",
      "Adding '[2020-01-01 00:00:00, 2020-08-11 21:35:59.277692]' data for symbol 'AMD' (154 entries)\n",
      "Adding '[2020-01-01 00:00:00, 2020-08-11 21:36:00.263379]' data for symbol 'IDEX' (152 entries)\n",
      "Adding '[2020-01-01 00:00:00, 2020-08-11 21:36:00.982717]' data for symbol 'FB' (154 entries)\n",
      "Adding '[2020-01-01 00:00:00, 2020-08-11 21:36:01.723940]' data for symbol 'ATNM' (154 entries)\n",
      "Adding '[2020-01-01 00:00:00, 2020-08-11 21:36:02.615400]' data for symbol 'FATE' (154 entries)\n",
      "Adding '[2020-01-01 00:00:00, 2020-08-11 21:36:03.480850]' data for symbol 'SOLO' (154 entries)\n",
      "Adding '[2020-01-01 00:00:00, 2020-08-11 21:36:04.475566]' data for symbol 'NBRV' (154 entries)\n",
      "Adding '[2020-01-01 00:00:00, 2020-08-11 21:36:05.510861]' data for symbol 'FEYE' (151 entries)\n",
      "Adding '[2020-01-01 00:00:00, 2020-08-11 21:36:06.300093]' data for symbol 'BCE' (154 entries)\n",
      "Adding '[2020-01-01 00:00:00, 2020-08-11 21:36:07.561495]' data for symbol 'MVIS' (152 entries)\n",
      "Adding '[2020-01-01 00:00:00, 2020-08-11 21:36:08.661797]' data for symbol 'CHWY' (152 entries)\n",
      "Adding '[2020-01-01 00:00:00, 2020-08-11 21:36:09.698700]' data for symbol 'MGI' (154 entries)\n",
      "Adding '[2020-01-01 00:00:00, 2020-08-11 21:36:10.445910]' data for symbol 'GOOG' (154 entries)\n",
      "Adding '[2020-01-01 00:00:00, 2020-08-11 21:36:11.365790]' data for symbol 'TSLA' (154 entries)\n",
      "Adding '[2020-01-01 00:00:00, 2020-08-11 21:36:12.370631]' data for symbol 'A' (152 entries)\n",
      "Adding '[2020-01-01 00:00:00, 2020-08-11 21:36:13.286014]' data for symbol 'AA' (152 entries)\n",
      "Adding '[2020-01-01 00:00:00, 2020-08-11 21:36:14.355822]' data for symbol 'AAL' (154 entries)\n",
      "Adding '[2020-01-01 00:00:00, 2020-08-11 21:36:15.510312]' data for symbol 'AAN' (154 entries)\n",
      "Adding '[2020-01-01 00:00:00, 2020-08-11 21:36:16.508183]' data for symbol 'AAON' (154 entries)\n",
      "Adding '[2020-01-01 00:00:00, 2020-08-11 21:36:17.415366]' data for symbol 'AAT' (154 entries)\n",
      "Adding '[2020-01-01 00:00:00, 2020-08-11 21:36:18.474220]' data for symbol 'AB' (154 entries)\n",
      "Adding '[2020-01-01 00:00:00, 2020-08-11 21:36:19.290628]' data for symbol 'ABBV' (154 entries)\n",
      "Adding '[2020-01-01 00:00:00, 2020-08-11 21:36:20.199129]' data for symbol 'ABC' (154 entries)\n",
      "Adding '[2020-01-01 00:00:00, 2020-08-11 21:36:20.923372]' data for symbol 'ABCB' (154 entries)\n",
      "Adding '[2020-01-01 00:00:00, 2020-08-11 21:36:21.829861]' data for symbol 'ABEO' (154 entries)\n",
      "Adding '[2020-01-01 00:00:00, 2020-08-11 21:36:22.707847]' data for symbol 'ABG' (154 entries)\n",
      "Adding '[2020-01-01 00:00:00, 2020-08-11 21:36:23.709177]' data for symbol 'ABM' (154 entries)\n",
      "Adding '[2020-01-01 00:00:00, 2020-08-11 21:36:24.739387]' data for symbol 'ABMD' (152 entries)\n",
      "Adding '[2020-01-01 00:00:00, 2020-08-11 21:36:25.660393]' data for symbol 'ABR' (154 entries)\n",
      "Adding '[2020-01-01 00:00:00, 2020-08-11 21:36:26.554014]' data for symbol 'ABT' (154 entries)\n",
      "Adding '[2020-01-01 00:00:00, 2020-08-11 21:36:27.309150]' data for symbol 'ABTX' (154 entries)\n",
      "Adding '[2020-01-01 00:00:00, 2020-08-11 21:36:28.107093]' data for symbol 'ABUS' (154 entries)\n",
      "Adding '[2020-01-01 00:00:00, 2020-08-11 21:36:29.107544]' data for symbol 'ACA' (154 entries)\n",
      "Adding '[2020-01-01 00:00:00, 2020-08-11 21:36:30.106884]' data for symbol 'ACGL' (154 entries)\n",
      "Adding '[2020-01-01 00:00:00, 2020-08-11 21:36:30.940562]' data for symbol 'ACHC' (152 entries)\n",
      "Adding '[2020-01-01 00:00:00, 2020-08-11 21:36:31.843878]' data for symbol 'BAND' (154 entries)\n",
      "Adding '[2020-01-01 00:00:00, 2020-08-11 21:36:32.627224]' data for symbol 'BBBY' (154 entries)\n",
      "Adding '[2020-01-01 00:00:00, 2020-08-11 21:36:33.411242]' data for symbol 'BBSI' (154 entries)\n",
      "Adding '[2020-01-01 00:00:00, 2020-08-11 21:36:34.209956]' data for symbol 'BBU' (154 entries)\n",
      "Adding '[2020-01-01 00:00:00, 2020-08-11 21:36:35.161016]' data for symbol 'BBVA' (154 entries)\n",
      "Adding '[2020-01-01 00:00:00, 2020-08-11 21:36:35.953234]' data for symbol 'BBW' (154 entries)\n",
      "Adding '[2020-01-01 00:00:00, 2020-08-11 21:36:36.895673]' data for symbol 'BBY' (154 entries)\n",
      "Adding '[2020-01-01 00:00:00, 2020-08-11 21:36:37.950060]' data for symbol 'BC' (154 entries)\n",
      "Adding '[2020-01-01 00:00:00, 2020-08-11 21:36:38.639836]' data for symbol 'BCBP' (154 entries)\n",
      "Adding '[2020-01-01 00:00:00, 2020-08-11 21:36:39.626606]' data for symbol 'CIR' (154 entries)\n",
      "Adding '[2020-01-01 00:00:00, 2020-08-11 21:36:40.531208]' data for symbol 'CIT' (154 entries)\n",
      "Adding '[2020-01-01 00:00:00, 2020-08-11 21:36:41.448643]' data for symbol 'CKH' (154 entries)\n",
      "Adding '[2020-01-01 00:00:00, 2020-08-11 21:36:42.563821]' data for symbol 'CLB' (154 entries)\n",
      "Adding '[2020-01-01 00:00:00, 2020-08-11 21:36:43.591545]' data for symbol 'CLBK' (154 entries)\n",
      "Adding '[2020-01-01 00:00:00, 2020-08-11 21:36:44.333960]' data for symbol 'CLBS' (154 entries)\n",
      "Adding '[2020-01-01 00:00:00, 2020-08-11 21:36:45.399698]' data for symbol 'CLCT' (154 entries)\n",
      "Adding '[2020-01-01 00:00:00, 2020-08-11 21:36:46.460651]' data for symbol 'CLDT' (154 entries)\n"
     ]
    },
    {
     "ename": "JSONDecodeError",
     "evalue": "Expecting value: line 1 column 1 (char 0)",
     "output_type": "error",
     "traceback": [
      "\u001b[1;31m---------------------------------------------------------------------------\u001b[0m",
      "\u001b[1;31mJSONDecodeError\u001b[0m                           Traceback (most recent call last)",
      "\u001b[1;32m<ipython-input-4-4cf292796b87>\u001b[0m in \u001b[0;36m<module>\u001b[1;34m\u001b[0m\n\u001b[1;32m----> 1\u001b[1;33m \u001b[0mm\u001b[0m\u001b[1;33m.\u001b[0m\u001b[0mupdate_stockprices\u001b[0m\u001b[1;33m(\u001b[0m\u001b[1;33m)\u001b[0m\u001b[1;33m\u001b[0m\u001b[1;33m\u001b[0m\u001b[0m\n\u001b[0m",
      "\u001b[1;32mC:\\UserData\\z003rvhr\\python\\yahoo_graber\\scraper\\scraper.py\u001b[0m in \u001b[0;36mupdate_stockprices\u001b[1;34m(self)\u001b[0m\n\u001b[0;32m    260\u001b[0m                 self.fetchInterval_stock_data(datetime.datetime(2020, 1, 1),\n\u001b[0;32m    261\u001b[0m                                     \u001b[0mdatetime\u001b[0m\u001b[1;33m.\u001b[0m\u001b[0mdatetime\u001b[0m\u001b[1;33m.\u001b[0m\u001b[0mnow\u001b[0m\u001b[1;33m(\u001b[0m\u001b[1;33m)\u001b[0m\u001b[1;33m,\u001b[0m\u001b[1;33m\u001b[0m\u001b[1;33m\u001b[0m\u001b[0m\n\u001b[1;32m--> 262\u001b[1;33m                                     symbol=ticker[\"sym\"]) \n\u001b[0m\u001b[0;32m    263\u001b[0m     \u001b[1;31m#\u001b[0m\u001b[1;33m\u001b[0m\u001b[1;33m\u001b[0m\u001b[1;33m\u001b[0m\u001b[0m\n\u001b[0;32m    264\u001b[0m     \u001b[1;31m# Fetches symbol data for the interval between startDate and endDate\u001b[0m\u001b[1;33m\u001b[0m\u001b[1;33m\u001b[0m\u001b[1;33m\u001b[0m\u001b[0m\n",
      "\u001b[1;32mC:\\UserData\\z003rvhr\\python\\yahoo_graber\\scraper\\scraper.py\u001b[0m in \u001b[0;36mfetchInterval_stock_data\u001b[1;34m(self, startDate, endDate, symbol)\u001b[0m\n\u001b[0;32m    280\u001b[0m         \u001b[1;32mfor\u001b[0m \u001b[0msymbol\u001b[0m \u001b[1;32min\u001b[0m \u001b[0msymbols\u001b[0m\u001b[1;33m:\u001b[0m\u001b[1;33m\u001b[0m\u001b[1;33m\u001b[0m\u001b[0m\n\u001b[0;32m    281\u001b[0m \u001b[1;33m\u001b[0m\u001b[0m\n\u001b[1;32m--> 282\u001b[1;33m             \u001b[0mdata\u001b[0m \u001b[1;33m=\u001b[0m \u001b[0mself\u001b[0m\u001b[1;33m.\u001b[0m\u001b[0mget_finnhub_prices\u001b[0m\u001b[1;33m(\u001b[0m\u001b[0msymbol\u001b[0m\u001b[1;33m[\u001b[0m\u001b[1;34m'sym'\u001b[0m\u001b[1;33m]\u001b[0m\u001b[1;33m,\u001b[0m \u001b[0mstartDate\u001b[0m\u001b[1;33m,\u001b[0m \u001b[0mendDate\u001b[0m\u001b[1;33m)\u001b[0m\u001b[1;33m\u001b[0m\u001b[1;33m\u001b[0m\u001b[0m\n\u001b[0m\u001b[0;32m    283\u001b[0m \u001b[1;33m\u001b[0m\u001b[0m\n\u001b[0;32m    284\u001b[0m             print(\"Adding '[\" + str(startDate) +\", \" + str(endDate)  + \"]' data for symbol '\" \n",
      "\u001b[1;32mC:\\UserData\\z003rvhr\\python\\yahoo_graber\\scraper\\scraper.py\u001b[0m in \u001b[0;36mget_finnhub_prices\u001b[1;34m(self, symbol, startDate, endDate)\u001b[0m\n\u001b[0;32m    294\u001b[0m     \u001b[1;32mdef\u001b[0m \u001b[0mget_finnhub_prices\u001b[0m\u001b[1;33m(\u001b[0m\u001b[0mself\u001b[0m\u001b[1;33m,\u001b[0m \u001b[0msymbol\u001b[0m\u001b[1;33m,\u001b[0m \u001b[0mstartDate\u001b[0m\u001b[1;33m,\u001b[0m \u001b[0mendDate\u001b[0m\u001b[1;33m)\u001b[0m\u001b[1;33m:\u001b[0m\u001b[1;33m\u001b[0m\u001b[1;33m\u001b[0m\u001b[0m\n\u001b[0;32m    295\u001b[0m         \u001b[0mdata\u001b[0m \u001b[1;33m=\u001b[0m \u001b[0mrequests\u001b[0m\u001b[1;33m.\u001b[0m\u001b[0mget\u001b[0m\u001b[1;33m(\u001b[0m\u001b[1;34m'https://finnhub.io/api/v1/stock/candle?symbol='\u001b[0m \u001b[1;33m+\u001b[0m \u001b[0mstr\u001b[0m\u001b[1;33m(\u001b[0m\u001b[0msymbol\u001b[0m\u001b[1;33m)\u001b[0m \u001b[1;33m+\u001b[0m \u001b[1;34m'&resolution=D&from='\u001b[0m\u001b[1;33m+\u001b[0m\u001b[0mstr\u001b[0m\u001b[1;33m(\u001b[0m\u001b[0mint\u001b[0m\u001b[1;33m(\u001b[0m\u001b[0mstartDate\u001b[0m\u001b[1;33m.\u001b[0m\u001b[0mtimestamp\u001b[0m\u001b[1;33m(\u001b[0m\u001b[1;33m)\u001b[0m\u001b[1;33m)\u001b[0m\u001b[1;33m)\u001b[0m\u001b[1;33m+\u001b[0m\u001b[1;34m'&to='\u001b[0m\u001b[1;33m+\u001b[0m\u001b[0mstr\u001b[0m\u001b[1;33m(\u001b[0m\u001b[0mint\u001b[0m\u001b[1;33m(\u001b[0m\u001b[0mendDate\u001b[0m\u001b[1;33m.\u001b[0m\u001b[0mtimestamp\u001b[0m\u001b[1;33m(\u001b[0m\u001b[1;33m)\u001b[0m\u001b[1;33m)\u001b[0m\u001b[1;33m)\u001b[0m\u001b[1;33m+\u001b[0m\u001b[1;34m'&token=bqmgk37rh5rc5ul5lcs0'\u001b[0m\u001b[1;33m)\u001b[0m\u001b[1;33m\u001b[0m\u001b[1;33m\u001b[0m\u001b[0m\n\u001b[1;32m--> 296\u001b[1;33m         \u001b[0mdatap\u001b[0m \u001b[1;33m=\u001b[0m \u001b[0mpd\u001b[0m\u001b[1;33m.\u001b[0m\u001b[0mDataFrame\u001b[0m\u001b[1;33m(\u001b[0m\u001b[0mdata\u001b[0m\u001b[1;33m.\u001b[0m\u001b[0mjson\u001b[0m\u001b[1;33m(\u001b[0m\u001b[1;33m)\u001b[0m\u001b[1;33m)\u001b[0m\u001b[1;33m\u001b[0m\u001b[1;33m\u001b[0m\u001b[0m\n\u001b[0m\u001b[0;32m    297\u001b[0m         \u001b[0mdatap\u001b[0m\u001b[1;33m[\u001b[0m\u001b[1;34m't'\u001b[0m\u001b[1;33m]\u001b[0m \u001b[1;33m=\u001b[0m \u001b[0mpd\u001b[0m\u001b[1;33m.\u001b[0m\u001b[0mto_datetime\u001b[0m\u001b[1;33m(\u001b[0m\u001b[0mdatap\u001b[0m\u001b[1;33m[\u001b[0m\u001b[1;34m't'\u001b[0m\u001b[1;33m]\u001b[0m\u001b[1;33m,\u001b[0m \u001b[0munit\u001b[0m\u001b[1;33m=\u001b[0m\u001b[1;34m's'\u001b[0m\u001b[1;33m)\u001b[0m\u001b[1;33m\u001b[0m\u001b[1;33m\u001b[0m\u001b[0m\n\u001b[0;32m    298\u001b[0m         \u001b[0mdatap\u001b[0m \u001b[1;33m=\u001b[0m \u001b[0mdatap\u001b[0m\u001b[1;33m.\u001b[0m\u001b[0mset_index\u001b[0m\u001b[1;33m(\u001b[0m\u001b[1;34m't'\u001b[0m\u001b[1;33m)\u001b[0m\u001b[1;33m\u001b[0m\u001b[1;33m\u001b[0m\u001b[0m\n",
      "\u001b[1;32mc:\\userdata\\z003rvhr\\python\\yahoo_graber\\grab\\lib\\site-packages\\requests\\models.py\u001b[0m in \u001b[0;36mjson\u001b[1;34m(self, **kwargs)\u001b[0m\n\u001b[0;32m    896\u001b[0m                     \u001b[1;31m# used.\u001b[0m\u001b[1;33m\u001b[0m\u001b[1;33m\u001b[0m\u001b[1;33m\u001b[0m\u001b[0m\n\u001b[0;32m    897\u001b[0m                     \u001b[1;32mpass\u001b[0m\u001b[1;33m\u001b[0m\u001b[1;33m\u001b[0m\u001b[0m\n\u001b[1;32m--> 898\u001b[1;33m         \u001b[1;32mreturn\u001b[0m \u001b[0mcomplexjson\u001b[0m\u001b[1;33m.\u001b[0m\u001b[0mloads\u001b[0m\u001b[1;33m(\u001b[0m\u001b[0mself\u001b[0m\u001b[1;33m.\u001b[0m\u001b[0mtext\u001b[0m\u001b[1;33m,\u001b[0m \u001b[1;33m**\u001b[0m\u001b[0mkwargs\u001b[0m\u001b[1;33m)\u001b[0m\u001b[1;33m\u001b[0m\u001b[1;33m\u001b[0m\u001b[0m\n\u001b[0m\u001b[0;32m    899\u001b[0m \u001b[1;33m\u001b[0m\u001b[0m\n\u001b[0;32m    900\u001b[0m     \u001b[1;33m@\u001b[0m\u001b[0mproperty\u001b[0m\u001b[1;33m\u001b[0m\u001b[1;33m\u001b[0m\u001b[0m\n",
      "\u001b[1;32m~\\AppData\\Local\\Continuum\\anaconda3\\lib\\json\\__init__.py\u001b[0m in \u001b[0;36mloads\u001b[1;34m(s, encoding, cls, object_hook, parse_float, parse_int, parse_constant, object_pairs_hook, **kw)\u001b[0m\n\u001b[0;32m    346\u001b[0m             \u001b[0mparse_int\u001b[0m \u001b[1;32mis\u001b[0m \u001b[1;32mNone\u001b[0m \u001b[1;32mand\u001b[0m \u001b[0mparse_float\u001b[0m \u001b[1;32mis\u001b[0m \u001b[1;32mNone\u001b[0m \u001b[1;32mand\u001b[0m\u001b[1;33m\u001b[0m\u001b[1;33m\u001b[0m\u001b[0m\n\u001b[0;32m    347\u001b[0m             parse_constant is None and object_pairs_hook is None and not kw):\n\u001b[1;32m--> 348\u001b[1;33m         \u001b[1;32mreturn\u001b[0m \u001b[0m_default_decoder\u001b[0m\u001b[1;33m.\u001b[0m\u001b[0mdecode\u001b[0m\u001b[1;33m(\u001b[0m\u001b[0ms\u001b[0m\u001b[1;33m)\u001b[0m\u001b[1;33m\u001b[0m\u001b[1;33m\u001b[0m\u001b[0m\n\u001b[0m\u001b[0;32m    349\u001b[0m     \u001b[1;32mif\u001b[0m \u001b[0mcls\u001b[0m \u001b[1;32mis\u001b[0m \u001b[1;32mNone\u001b[0m\u001b[1;33m:\u001b[0m\u001b[1;33m\u001b[0m\u001b[1;33m\u001b[0m\u001b[0m\n\u001b[0;32m    350\u001b[0m         \u001b[0mcls\u001b[0m \u001b[1;33m=\u001b[0m \u001b[0mJSONDecoder\u001b[0m\u001b[1;33m\u001b[0m\u001b[1;33m\u001b[0m\u001b[0m\n",
      "\u001b[1;32m~\\AppData\\Local\\Continuum\\anaconda3\\lib\\json\\decoder.py\u001b[0m in \u001b[0;36mdecode\u001b[1;34m(self, s, _w)\u001b[0m\n\u001b[0;32m    335\u001b[0m \u001b[1;33m\u001b[0m\u001b[0m\n\u001b[0;32m    336\u001b[0m         \"\"\"\n\u001b[1;32m--> 337\u001b[1;33m         \u001b[0mobj\u001b[0m\u001b[1;33m,\u001b[0m \u001b[0mend\u001b[0m \u001b[1;33m=\u001b[0m \u001b[0mself\u001b[0m\u001b[1;33m.\u001b[0m\u001b[0mraw_decode\u001b[0m\u001b[1;33m(\u001b[0m\u001b[0ms\u001b[0m\u001b[1;33m,\u001b[0m \u001b[0midx\u001b[0m\u001b[1;33m=\u001b[0m\u001b[0m_w\u001b[0m\u001b[1;33m(\u001b[0m\u001b[0ms\u001b[0m\u001b[1;33m,\u001b[0m \u001b[1;36m0\u001b[0m\u001b[1;33m)\u001b[0m\u001b[1;33m.\u001b[0m\u001b[0mend\u001b[0m\u001b[1;33m(\u001b[0m\u001b[1;33m)\u001b[0m\u001b[1;33m)\u001b[0m\u001b[1;33m\u001b[0m\u001b[1;33m\u001b[0m\u001b[0m\n\u001b[0m\u001b[0;32m    338\u001b[0m         \u001b[0mend\u001b[0m \u001b[1;33m=\u001b[0m \u001b[0m_w\u001b[0m\u001b[1;33m(\u001b[0m\u001b[0ms\u001b[0m\u001b[1;33m,\u001b[0m \u001b[0mend\u001b[0m\u001b[1;33m)\u001b[0m\u001b[1;33m.\u001b[0m\u001b[0mend\u001b[0m\u001b[1;33m(\u001b[0m\u001b[1;33m)\u001b[0m\u001b[1;33m\u001b[0m\u001b[1;33m\u001b[0m\u001b[0m\n\u001b[0;32m    339\u001b[0m         \u001b[1;32mif\u001b[0m \u001b[0mend\u001b[0m \u001b[1;33m!=\u001b[0m \u001b[0mlen\u001b[0m\u001b[1;33m(\u001b[0m\u001b[0ms\u001b[0m\u001b[1;33m)\u001b[0m\u001b[1;33m:\u001b[0m\u001b[1;33m\u001b[0m\u001b[1;33m\u001b[0m\u001b[0m\n",
      "\u001b[1;32m~\\AppData\\Local\\Continuum\\anaconda3\\lib\\json\\decoder.py\u001b[0m in \u001b[0;36mraw_decode\u001b[1;34m(self, s, idx)\u001b[0m\n\u001b[0;32m    353\u001b[0m             \u001b[0mobj\u001b[0m\u001b[1;33m,\u001b[0m \u001b[0mend\u001b[0m \u001b[1;33m=\u001b[0m \u001b[0mself\u001b[0m\u001b[1;33m.\u001b[0m\u001b[0mscan_once\u001b[0m\u001b[1;33m(\u001b[0m\u001b[0ms\u001b[0m\u001b[1;33m,\u001b[0m \u001b[0midx\u001b[0m\u001b[1;33m)\u001b[0m\u001b[1;33m\u001b[0m\u001b[1;33m\u001b[0m\u001b[0m\n\u001b[0;32m    354\u001b[0m         \u001b[1;32mexcept\u001b[0m \u001b[0mStopIteration\u001b[0m \u001b[1;32mas\u001b[0m \u001b[0merr\u001b[0m\u001b[1;33m:\u001b[0m\u001b[1;33m\u001b[0m\u001b[1;33m\u001b[0m\u001b[0m\n\u001b[1;32m--> 355\u001b[1;33m             \u001b[1;32mraise\u001b[0m \u001b[0mJSONDecodeError\u001b[0m\u001b[1;33m(\u001b[0m\u001b[1;34m\"Expecting value\"\u001b[0m\u001b[1;33m,\u001b[0m \u001b[0ms\u001b[0m\u001b[1;33m,\u001b[0m \u001b[0merr\u001b[0m\u001b[1;33m.\u001b[0m\u001b[0mvalue\u001b[0m\u001b[1;33m)\u001b[0m \u001b[1;32mfrom\u001b[0m \u001b[1;32mNone\u001b[0m\u001b[1;33m\u001b[0m\u001b[1;33m\u001b[0m\u001b[0m\n\u001b[0m\u001b[0;32m    356\u001b[0m         \u001b[1;32mreturn\u001b[0m \u001b[0mobj\u001b[0m\u001b[1;33m,\u001b[0m \u001b[0mend\u001b[0m\u001b[1;33m\u001b[0m\u001b[1;33m\u001b[0m\u001b[0m\n",
      "\u001b[1;31mJSONDecodeError\u001b[0m: Expecting value: line 1 column 1 (char 0)"
     ]
    }
   ],
   "source": [
    "m.update_stockprices()"
   ]
  },
  {
   "cell_type": "code",
   "execution_count": 6,
   "metadata": {},
   "outputs": [
    {
     "ename": "NameError",
     "evalue": "name 'newestDate' is not defined",
     "output_type": "error",
     "traceback": [
      "\u001b[1;31m---------------------------------------------------------------------------\u001b[0m",
      "\u001b[1;31mNameError\u001b[0m                                 Traceback (most recent call last)",
      "\u001b[1;32m<ipython-input-6-025c5ea6f2ea>\u001b[0m in \u001b[0;36m<module>\u001b[1;34m\u001b[0m\n\u001b[1;32m----> 1\u001b[1;33m \u001b[0mdatetime\u001b[0m\u001b[1;33m.\u001b[0m\u001b[0mdatetime\u001b[0m\u001b[1;33m.\u001b[0m\u001b[0mstrptime\u001b[0m\u001b[1;33m(\u001b[0m\u001b[0mnewestDate\u001b[0m\u001b[1;33m,\u001b[0m \u001b[1;34m\"%Y-%m-%d %H:%M:%S\"\u001b[0m\u001b[1;33m)\u001b[0m\u001b[1;33m\u001b[0m\u001b[1;33m\u001b[0m\u001b[0m\n\u001b[0m",
      "\u001b[1;31mNameError\u001b[0m: name 'newestDate' is not defined"
     ]
    }
   ],
   "source": [
    "datetime.datetime.strptime(newestDate, \"%Y-%m-%d %H:%M:%S\")"
   ]
  },
  {
   "cell_type": "code",
   "execution_count": 14,
   "metadata": {},
   "outputs": [
    {
     "ename": "ValueError",
     "evalue": "No objects to concatenate",
     "output_type": "error",
     "traceback": [
      "\u001b[1;31m---------------------------------------------------------------------------\u001b[0m",
      "\u001b[1;31mValueError\u001b[0m                                Traceback (most recent call last)",
      "\u001b[1;32m<ipython-input-14-79e39594ec89>\u001b[0m in \u001b[0;36m<module>\u001b[1;34m\u001b[0m\n\u001b[1;32m----> 1\u001b[1;33m \u001b[0mtickerTimeline\u001b[0m \u001b[1;33m=\u001b[0m \u001b[0mm\u001b[0m\u001b[1;33m.\u001b[0m\u001b[0mget_stock_data\u001b[0m\u001b[1;33m(\u001b[0m\u001b[1;34m'AAPL'\u001b[0m\u001b[1;33m)\u001b[0m\u001b[1;33m\u001b[0m\u001b[1;33m\u001b[0m\u001b[0m\n\u001b[0m\u001b[0;32m      2\u001b[0m \u001b[0mtickerTimeline\u001b[0m\u001b[1;33m\u001b[0m\u001b[1;33m\u001b[0m\u001b[0m\n",
      "\u001b[1;32mC:\\UserData\\z003rvhr\\python\\yahoo_graber\\scraper\\scraper.py\u001b[0m in \u001b[0;36mget_stock_data\u001b[1;34m(self, symbol)\u001b[0m\n\u001b[0;32m    309\u001b[0m             \u001b[0mdf\u001b[0m \u001b[1;33m=\u001b[0m \u001b[0mpd\u001b[0m\u001b[1;33m.\u001b[0m\u001b[0mDataFrame\u001b[0m\u001b[1;33m.\u001b[0m\u001b[0mfrom_records\u001b[0m\u001b[1;33m(\u001b[0m\u001b[0ms\u001b[0m\u001b[1;33m[\u001b[0m\u001b[1;34m'timeline'\u001b[0m\u001b[1;33m]\u001b[0m\u001b[1;33m)\u001b[0m\u001b[1;33m\u001b[0m\u001b[1;33m\u001b[0m\u001b[0m\n\u001b[0;32m    310\u001b[0m             \u001b[0mcleanSymbols\u001b[0m\u001b[1;33m.\u001b[0m\u001b[0mappend\u001b[0m\u001b[1;33m(\u001b[0m\u001b[0mdf\u001b[0m\u001b[1;33m)\u001b[0m\u001b[1;33m\u001b[0m\u001b[1;33m\u001b[0m\u001b[0m\n\u001b[1;32m--> 311\u001b[1;33m         \u001b[1;32mreturn\u001b[0m \u001b[0mpd\u001b[0m\u001b[1;33m.\u001b[0m\u001b[0mconcat\u001b[0m\u001b[1;33m(\u001b[0m\u001b[0mcleanSymbols\u001b[0m\u001b[1;33m)\u001b[0m\u001b[1;33m\u001b[0m\u001b[1;33m\u001b[0m\u001b[0m\n\u001b[0m\u001b[0;32m    312\u001b[0m \u001b[1;33m\u001b[0m\u001b[0m\n\u001b[0;32m    313\u001b[0m \u001b[1;32mdef\u001b[0m \u001b[0medit_options\u001b[0m\u001b[1;33m(\u001b[0m\u001b[1;33m)\u001b[0m\u001b[1;33m:\u001b[0m\u001b[1;33m\u001b[0m\u001b[1;33m\u001b[0m\u001b[0m\n",
      "\u001b[1;32mc:\\userdata\\z003rvhr\\python\\yahoo_graber\\grab\\lib\\site-packages\\pandas\\core\\reshape\\concat.py\u001b[0m in \u001b[0;36mconcat\u001b[1;34m(objs, axis, join, ignore_index, keys, levels, names, verify_integrity, sort, copy)\u001b[0m\n\u001b[0;32m    279\u001b[0m         \u001b[0mverify_integrity\u001b[0m\u001b[1;33m=\u001b[0m\u001b[0mverify_integrity\u001b[0m\u001b[1;33m,\u001b[0m\u001b[1;33m\u001b[0m\u001b[1;33m\u001b[0m\u001b[0m\n\u001b[0;32m    280\u001b[0m         \u001b[0mcopy\u001b[0m\u001b[1;33m=\u001b[0m\u001b[0mcopy\u001b[0m\u001b[1;33m,\u001b[0m\u001b[1;33m\u001b[0m\u001b[1;33m\u001b[0m\u001b[0m\n\u001b[1;32m--> 281\u001b[1;33m         \u001b[0msort\u001b[0m\u001b[1;33m=\u001b[0m\u001b[0msort\u001b[0m\u001b[1;33m,\u001b[0m\u001b[1;33m\u001b[0m\u001b[1;33m\u001b[0m\u001b[0m\n\u001b[0m\u001b[0;32m    282\u001b[0m     )\n\u001b[0;32m    283\u001b[0m \u001b[1;33m\u001b[0m\u001b[0m\n",
      "\u001b[1;32mc:\\userdata\\z003rvhr\\python\\yahoo_graber\\grab\\lib\\site-packages\\pandas\\core\\reshape\\concat.py\u001b[0m in \u001b[0;36m__init__\u001b[1;34m(self, objs, axis, join, keys, levels, names, ignore_index, verify_integrity, copy, sort)\u001b[0m\n\u001b[0;32m    327\u001b[0m \u001b[1;33m\u001b[0m\u001b[0m\n\u001b[0;32m    328\u001b[0m         \u001b[1;32mif\u001b[0m \u001b[0mlen\u001b[0m\u001b[1;33m(\u001b[0m\u001b[0mobjs\u001b[0m\u001b[1;33m)\u001b[0m \u001b[1;33m==\u001b[0m \u001b[1;36m0\u001b[0m\u001b[1;33m:\u001b[0m\u001b[1;33m\u001b[0m\u001b[1;33m\u001b[0m\u001b[0m\n\u001b[1;32m--> 329\u001b[1;33m             \u001b[1;32mraise\u001b[0m \u001b[0mValueError\u001b[0m\u001b[1;33m(\u001b[0m\u001b[1;34m\"No objects to concatenate\"\u001b[0m\u001b[1;33m)\u001b[0m\u001b[1;33m\u001b[0m\u001b[1;33m\u001b[0m\u001b[0m\n\u001b[0m\u001b[0;32m    330\u001b[0m \u001b[1;33m\u001b[0m\u001b[0m\n\u001b[0;32m    331\u001b[0m         \u001b[1;32mif\u001b[0m \u001b[0mkeys\u001b[0m \u001b[1;32mis\u001b[0m \u001b[1;32mNone\u001b[0m\u001b[1;33m:\u001b[0m\u001b[1;33m\u001b[0m\u001b[1;33m\u001b[0m\u001b[0m\n",
      "\u001b[1;31mValueError\u001b[0m: No objects to concatenate"
     ]
    }
   ],
   "source": [
    "tickerTimeline = m.get_stock_data('AAPL')\n",
    "tickerTimeline"
   ]
  },
  {
   "cell_type": "code",
   "execution_count": 26,
   "metadata": {},
   "outputs": [
    {
     "name": "stderr",
     "output_type": "stream",
     "text": [
      "c:\\userdata\\z003rvhr\\python\\yahoo_graber\\grab\\lib\\site-packages\\ipykernel_launcher.py:2: DeprecationWarning: count is deprecated. Use Collection.count_documents instead.\n",
      "  \n"
     ]
    },
    {
     "data": {
      "text/plain": [
       "False"
      ]
     },
     "execution_count": 26,
     "metadata": {},
     "output_type": "execute_result"
    }
   ],
   "source": [
    "sym = m.stock_data.pricedata.find({'sym': 'AAPL'})\n",
    "sym.count() > 0"
   ]
  },
  {
   "cell_type": "code",
   "execution_count": 3,
   "metadata": {},
   "outputs": [
    {
     "data": {
      "text/plain": [
       "[]"
      ]
     },
     "execution_count": 3,
     "metadata": {},
     "output_type": "execute_result"
    }
   ],
   "source": [
    "m.get_stock_data('AAPL')"
   ]
  },
  {
   "cell_type": "code",
   "execution_count": null,
   "metadata": {},
   "outputs": [],
   "source": []
  }
 ],
 "metadata": {
  "kernelspec": {
   "display_name": "Python 3",
   "language": "python",
   "name": "python3"
  },
  "language_info": {
   "codemirror_mode": {
    "name": "ipython",
    "version": 3
   },
   "file_extension": ".py",
   "mimetype": "text/x-python",
   "name": "python",
   "nbconvert_exporter": "python",
   "pygments_lexer": "ipython3",
   "version": "3.7.1"
  }
 },
 "nbformat": 4,
 "nbformat_minor": 4
}
